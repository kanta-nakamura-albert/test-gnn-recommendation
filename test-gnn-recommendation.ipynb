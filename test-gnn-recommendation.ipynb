{
 "cells": [
  {
   "cell_type": "markdown",
   "id": "ffaf18e2-4d7e-4963-b982-8e8e50d20ab9",
   "metadata": {},
   "source": [
    "# test-gnn-recommendation\n",
    "\n",
    "- 参考\n",
    "    - https://towardsdatascience.com/hands-on-graph-neural-networks-with-pytorch-pytorch-geometric-359487e221a8\n",
    "    - https://medium.com/arangodb/integrate-arangodb-with-pytorch-geometric-to-build-recommendation-systems-dd69db688465\n",
    "- サンプルデータ: [The Movies Dataset](https://www.kaggle.com/datasets/rounakbanik/the-movies-dataset)\n",
    "    - `credits.csv`\n",
    "    - `keywords.csv`\n",
    "    - `links.csv`\n",
    "    - `links_small.csv`\n",
    "    - `movies_metadata.csv`\n",
    "    - `ratings.csv`\n",
    "    - `ratings_small.csv`"
   ]
  },
  {
   "cell_type": "code",
   "execution_count": 1,
   "id": "4f6630d2-c033-4a64-93e4-2978a66cb9a0",
   "metadata": {},
   "outputs": [],
   "source": [
    "import ast\n",
    "import itertools\n",
    "\n",
    "import numpy as np\n",
    "import pandas as pd\n",
    "import torch\n",
    "from sentence_transformers import SentenceTransformer\n",
    "from torch_geometric.data import HeteroData\n",
    "\n",
    "pd.options.display.max_columns = 100"
   ]
  },
  {
   "cell_type": "code",
   "execution_count": 2,
   "id": "917cdde6-ceae-40cb-83a8-29808b055349",
   "metadata": {},
   "outputs": [],
   "source": [
    "# データの読み込み\n",
    "LINKS_PATH = \"./data/links_small.csv\"\n",
    "METADATA_PATH = \"./data/movies_metadata.csv\"\n",
    "RATINGS_PATH = \"./data/ratings_small.csv\"\n",
    "\n",
    "df_links = pd.read_csv(LINKS_PATH, dtype=str)\n",
    "df_metadata = pd.read_csv(METADATA_PATH, dtype=str)\n",
    "df_ratings = pd.read_csv(RATINGS_PATH, dtype=str)\n",
    "\n",
    "df_metadata = df_metadata.drop([19730, 29503, 35587])\n",
    "df_metadata[\"title\"] = df_metadata[\"title\"].fillna(\"\")"
   ]
  },
  {
   "cell_type": "code",
   "execution_count": 3,
   "id": "3653475d-7a81-4b9c-9ef0-4ee716f47d1f",
   "metadata": {},
   "outputs": [
    {
     "data": {
      "text/plain": [
       "'cuda'"
      ]
     },
     "execution_count": 3,
     "metadata": {},
     "output_type": "execute_result"
    }
   ],
   "source": [
    "# GPUが使用可能な場合GPUを使用\n",
    "device = torch.device(\"cuda:0\" if torch.cuda.is_available() else \"cpu\")\n",
    "device.type"
   ]
  },
  {
   "cell_type": "code",
   "execution_count": 4,
   "id": "9fafa647-f710-4316-885b-9dcc9f3e6d67",
   "metadata": {},
   "outputs": [],
   "source": [
    "src = df_ratings[[\"userId\", \"movieId\"]].astype(int).values.T\n",
    "dst = df_ratings[\"movieId\"].astype(int).values\n",
    "ratings = df_ratings[\"rating\"].astype(float).values\n",
    "\n",
    "edge_index = torch.from_numpy(src.astype(np.float32)).clone()\n",
    "edge_label = torch.from_numpy(ratings.astype(np.float32)).clone()"
   ]
  },
  {
   "cell_type": "code",
   "execution_count": 5,
   "id": "b91a4bd6-7acb-4daf-a91c-1d9861128e2e",
   "metadata": {},
   "outputs": [
    {
     "data": {
      "application/vnd.jupyter.widget-view+json": {
       "model_id": "23b69553fbe34fb3ac1b82c667546a11",
       "version_major": 2,
       "version_minor": 0
      },
      "text/plain": [
       "Batches:   0%|          | 0/1421 [00:00<?, ?it/s]"
      ]
     },
     "metadata": {},
     "output_type": "display_data"
    },
    {
     "name": "stdout",
     "output_type": "stream",
     "text": [
      "Title Embeddings shape: torch.Size([45463, 384])\n",
      "Encoded Genres shape: torch.Size([45463, 20])\n",
      "Shape of the concatenated features: torch.Size([45463, 404])\n"
     ]
    }
   ],
   "source": [
    "# 映画タイトル畳み込み\n",
    "model = SentenceTransformer(\"all-MiniLM-L6-v2\", device=device)\n",
    "title_embeddings = model.encode(\n",
    "    df_metadata[\"title\"].values,\n",
    "    show_progress_bar=True,\n",
    "    convert_to_tensor=True,\n",
    "    device=device,\n",
    ")\n",
    "print('Title Embeddings shape:', title_embeddings.shape)\n",
    "\n",
    "# ジャンルのエンコード\n",
    "def genre_list_to_genre_names(genre_list):\n",
    "    genre_list = ast.literal_eval(genre_list)\n",
    "    if len(genre_list) == 0:\n",
    "        return []\n",
    "    genre_names = []\n",
    "    for genre_dict in genre_list:\n",
    "        genre_names.append(genre_dict[\"name\"])\n",
    "    return genre_names\n",
    "\n",
    "genres = df_metadata[\"genres\"].apply(genre_list_to_genre_names).values\n",
    "unique_genres = set(itertools.chain(*genres))\n",
    "mapping = {g: i for i, g in enumerate(unique_genres)}\n",
    "encoded_genres = torch.zeros(len(genres), len(mapping))\n",
    "for i, genre in enumerate(genres):\n",
    "    for g in genre:\n",
    "        encoded_genres[i, mapping[g]] = 1\n",
    "encoded_genres = encoded_genres.to(device)\n",
    "print(\"Encoded Genres shape:\", encoded_genres.shape)\n",
    "        \n",
    "# 映画の特徴量を結合\n",
    "movie_x = torch.cat((title_embeddings, encoded_genres), dim=-1)\n",
    "print(\"Shape of the concatenated features:\", movie_x.shape)"
   ]
  }
 ],
 "metadata": {
  "kernelspec": {
   "display_name": "Python 3 (ipykernel)",
   "language": "python",
   "name": "python3"
  },
  "language_info": {
   "codemirror_mode": {
    "name": "ipython",
    "version": 3
   },
   "file_extension": ".py",
   "mimetype": "text/x-python",
   "name": "python",
   "nbconvert_exporter": "python",
   "pygments_lexer": "ipython3",
   "version": "3.7.13"
  }
 },
 "nbformat": 4,
 "nbformat_minor": 5
}
