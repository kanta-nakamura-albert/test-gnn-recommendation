{
 "cells": [
  {
   "cell_type": "markdown",
   "id": "ffaf18e2-4d7e-4963-b982-8e8e50d20ab9",
   "metadata": {},
   "source": [
    "# test-gnn-recommendation\n",
    "\n",
    "- 参考\n",
    "    - https://towardsdatascience.com/hands-on-graph-neural-networks-with-pytorch-pytorch-geometric-359487e221a8\n",
    "    - https://medium.com/arangodb/integrate-arangodb-with-pytorch-geometric-to-build-recommendation-systems-dd69db688465\n",
    "- サンプルデータ: [The Movies Dataset](https://www.kaggle.com/datasets/rounakbanik/the-movies-dataset)\n",
    "    - `credits.csv`\n",
    "    - `keywords.csv`\n",
    "    - `links.csv`\n",
    "    - `links_small.csv`\n",
    "    - `movies_metadata.csv`\n",
    "    - `ratings.csv`\n",
    "    - `ratings_small.csv`"
   ]
  },
  {
   "cell_type": "code",
   "execution_count": 1,
   "id": "4f6630d2-c033-4a64-93e4-2978a66cb9a0",
   "metadata": {},
   "outputs": [],
   "source": [
    "import ast\n",
    "import itertools\n",
    "\n",
    "import numpy as np\n",
    "import pandas as pd\n",
    "import torch\n",
    "import torch_geometric.transforms as T\n",
    "from sentence_transformers import SentenceTransformer\n",
    "from torch_geometric.data import HeteroData\n",
    "from torch_geometric.transforms import RandomLinkSplit, ToUndirected\n",
    "\n",
    "pd.options.display.max_columns = 100"
   ]
  },
  {
   "cell_type": "code",
   "execution_count": 2,
   "id": "917cdde6-ceae-40cb-83a8-29808b055349",
   "metadata": {},
   "outputs": [],
   "source": [
    "# データの読み込み\n",
    "LINKS_PATH = \"./data/links.csv\"\n",
    "METADATA_PATH = \"./data/movies_metadata.csv\"\n",
    "RATINGS_PATH = \"./data/ratings.csv\"\n",
    "\n",
    "df_links = pd.read_csv(LINKS_PATH, dtype=str)\n",
    "df_metadata = pd.read_csv(METADATA_PATH, dtype=str)\n",
    "df_ratings = pd.read_csv(RATINGS_PATH, dtype=str)\n",
    "\n",
    "df_metadata = df_metadata.drop([19730, 29503, 35587])\n",
    "df_metadata[\"title\"] = df_metadata[\"title\"].fillna(\"\")"
   ]
  },
  {
   "cell_type": "code",
   "execution_count": 3,
   "id": "3653475d-7a81-4b9c-9ef0-4ee716f47d1f",
   "metadata": {},
   "outputs": [
    {
     "data": {
      "text/plain": [
       "'cuda'"
      ]
     },
     "execution_count": 3,
     "metadata": {},
     "output_type": "execute_result"
    }
   ],
   "source": [
    "# GPUが使用可能な場合GPUを使用\n",
    "device = torch.device(\"cuda:0\" if torch.cuda.is_available() else \"cpu\")\n",
    "device.type"
   ]
  },
  {
   "cell_type": "code",
   "execution_count": 4,
   "id": "9fafa647-f710-4316-885b-9dcc9f3e6d67",
   "metadata": {},
   "outputs": [],
   "source": [
    "edge_index = torch.from_numpy(\n",
    "    df_ratings[[\"userId\", \"movieId\"]].astype(int).values.T\n",
    ").clone()\n",
    "edge_label = torch.from_numpy(\n",
    "    (df_ratings[\"rating\"].astype(float) * 2)\n",
    "    .astype(int)\n",
    "    .values  # 0.5単位なので、2倍して10段階評価に変更\n",
    ").clone()"
   ]
  },
  {
   "cell_type": "code",
   "execution_count": 5,
   "id": "b91a4bd6-7acb-4daf-a91c-1d9861128e2e",
   "metadata": {},
   "outputs": [
    {
     "data": {
      "application/vnd.jupyter.widget-view+json": {
       "model_id": "c66fdc4c187b432eabe06d57c538d011",
       "version_major": 2,
       "version_minor": 0
      },
      "text/plain": [
       "Batches:   0%|          | 0/1421 [00:00<?, ?it/s]"
      ]
     },
     "metadata": {},
     "output_type": "display_data"
    },
    {
     "name": "stdout",
     "output_type": "stream",
     "text": [
      "Title Embeddings shape: torch.Size([45463, 384])\n",
      "Encoded Genres shape: torch.Size([45463, 20])\n",
      "Shape of the concatenated features: torch.Size([45463, 404])\n"
     ]
    }
   ],
   "source": [
    "# 映画タイトル畳み込み\n",
    "model = SentenceTransformer(\"all-MiniLM-L6-v2\", device=device)\n",
    "title_embeddings = model.encode(\n",
    "    df_metadata[\"title\"].values,\n",
    "    show_progress_bar=True,\n",
    "    convert_to_tensor=True,\n",
    "    device=device,\n",
    ")\n",
    "print(\"Title Embeddings shape:\", title_embeddings.shape)\n",
    "\n",
    "# ジャンルのエンコード\n",
    "def genre_list_to_genre_names(genre_list):\n",
    "    genre_list = ast.literal_eval(genre_list)\n",
    "    if len(genre_list) == 0:\n",
    "        return []\n",
    "    genre_names = []\n",
    "    for genre_dict in genre_list:\n",
    "        genre_names.append(genre_dict[\"name\"])\n",
    "    return genre_names\n",
    "\n",
    "\n",
    "genres = df_metadata[\"genres\"].apply(genre_list_to_genre_names).values\n",
    "unique_genres = set(itertools.chain(*genres))\n",
    "mapping = {g: i for i, g in enumerate(unique_genres)}\n",
    "encoded_genres = torch.zeros(len(genres), len(mapping))\n",
    "for i, genre in enumerate(genres):\n",
    "    for g in genre:\n",
    "        encoded_genres[i, mapping[g]] = 1\n",
    "encoded_genres = encoded_genres.to(device)\n",
    "print(\"Encoded Genres shape:\", encoded_genres.shape)\n",
    "\n",
    "# 映画の特徴量を結合\n",
    "movie_x = torch.cat((title_embeddings, encoded_genres), dim=-1)\n",
    "print(\"Shape of the concatenated features:\", movie_x.shape)"
   ]
  },
  {
   "cell_type": "code",
   "execution_count": 6,
   "id": "953e768b-938f-479a-839f-7bcea9b0fcae",
   "metadata": {},
   "outputs": [
    {
     "data": {
      "text/plain": [
       "HeteroData(\n",
       "  \u001b[1muser\u001b[0m={ x=[270896, 270896] },\n",
       "  \u001b[1mmovie\u001b[0m={ x=[45463, 404] },\n",
       "  \u001b[1m(user, rates, movie)\u001b[0m={\n",
       "    edge_index=[2, 26024289],\n",
       "    edge_label=[26024289]\n",
       "  },\n",
       "  \u001b[1m(movie, rev_rates, user)\u001b[0m={ edge_index=[2, 26024289] }\n",
       ")"
      ]
     },
     "execution_count": 6,
     "metadata": {},
     "output_type": "execute_result"
    }
   ],
   "source": [
    "# グラフを作成\n",
    "data = HeteroData()\n",
    "l = len(set(df_ratings[\"userId\"].values))\n",
    "data[\n",
    "    \"user\"\n",
    "].x = torch.sparse_coo_tensor(  # 密行列だと300GBくらいメモリを要求された。ほんとはtorch.eye(l, layout=torch.torch.sparse_coo)で書きたいが、beta版しかない。\n",
    "    [[t for t in range(l)], [t for t in range(l)]], np.ones(l), (l, l)\n",
    ")\n",
    "data[\"movie\"].x = movie_x\n",
    "data[\"user\", \"rates\", \"movie\"].edge_index = edge_index\n",
    "data[\"user\", \"rates\", \"movie\"].edge_label = edge_label\n",
    "data = ToUndirected()(data)  # 映画->ユーザーのエッジも作成\n",
    "del data[\"movie\", \"rev_rates\", \"user\"].edge_label  # 映画->ユーザーのエッジラベルを削除\n",
    "data = data.to(device)\n",
    "data"
   ]
  },
  {
   "cell_type": "code",
   "execution_count": 7,
   "id": "38289d1e-2942-4044-90b0-06357a6e132a",
   "metadata": {},
   "outputs": [],
   "source": [
    "# エッジを学習・検証・テストに分割\n",
    "train_data, val_data, test_data = T.RandomLinkSplit(\n",
    "    num_val=0.1,\n",
    "    num_test=0.1,\n",
    "    neg_sampling_ratio=0.0,\n",
    "    edge_types=[(\"user\", \"rates\", \"movie\")],\n",
    "    rev_edge_types=[(\"movie\", \"rev_rates\", \"user\")],\n",
    ")(data)"
   ]
  },
  {
   "cell_type": "code",
   "execution_count": 8,
   "id": "21000d26-053d-4821-8dc5-c104627647ab",
   "metadata": {},
   "outputs": [
    {
     "data": {
      "text/plain": [
       "tensor([    inf, 17.2904,  8.2972, 17.3159,  3.9705,  5.5711,  1.3312,  2.2462,\n",
       "         1.0000,  3.2264,  1.8362], device='cuda:0')"
      ]
     },
     "execution_count": 8,
     "metadata": {},
     "output_type": "execute_result"
    }
   ],
   "source": [
    "# レートに偏りがあるため、重みづけする。\n",
    "def weighted_mse_loss(pred, target, weight=None):\n",
    "    weight = 1.0 if weight is None else weight[target].to(pred.dtype)\n",
    "    return (weight * (pred - target.to(pred.dtype)).pow(2)).mean()\n",
    "\n",
    "weight = torch.bincount(train_data[\"user\", \"movie\"].edge_label)\n",
    "weight = weight.max() / weight\n",
    "weight"
   ]
  }
 ],
 "metadata": {
  "kernelspec": {
   "display_name": "Python 3 (ipykernel)",
   "language": "python",
   "name": "python3"
  },
  "language_info": {
   "codemirror_mode": {
    "name": "ipython",
    "version": 3
   },
   "file_extension": ".py",
   "mimetype": "text/x-python",
   "name": "python",
   "nbconvert_exporter": "python",
   "pygments_lexer": "ipython3",
   "version": "3.7.13"
  }
 },
 "nbformat": 4,
 "nbformat_minor": 5
}
